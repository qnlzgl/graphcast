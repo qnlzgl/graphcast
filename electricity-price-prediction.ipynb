{
 "cells": [
  {
   "cell_type": "code",
   "execution_count": 6,
   "metadata": {},
   "outputs": [
    {
     "ename": "NoMatchingDataError",
     "evalue": "",
     "output_type": "error",
     "traceback": [
      "\u001b[0;31m---------------------------------------------------------------------------\u001b[0m",
      "\u001b[0;31mNoMatchingDataError\u001b[0m                       Traceback (most recent call last)",
      "Cell \u001b[0;32mIn[6], line 14\u001b[0m\n\u001b[1;32m     11\u001b[0m start \u001b[38;5;241m=\u001b[39m pd\u001b[38;5;241m.\u001b[39mTimestamp(\u001b[38;5;124m'\u001b[39m\u001b[38;5;124m20240201\u001b[39m\u001b[38;5;124m'\u001b[39m, tz\u001b[38;5;241m=\u001b[39m\u001b[38;5;124m'\u001b[39m\u001b[38;5;124mEurope/Berlin\u001b[39m\u001b[38;5;124m'\u001b[39m)\n\u001b[1;32m     12\u001b[0m end \u001b[38;5;241m=\u001b[39m pd\u001b[38;5;241m.\u001b[39mTimestamp(\u001b[38;5;124m'\u001b[39m\u001b[38;5;124m20240202\u001b[39m\u001b[38;5;124m'\u001b[39m, tz\u001b[38;5;241m=\u001b[39m\u001b[38;5;124m'\u001b[39m\u001b[38;5;124mEurope/Berlin\u001b[39m\u001b[38;5;124m'\u001b[39m)\n\u001b[0;32m---> 14\u001b[0m df \u001b[38;5;241m=\u001b[39m \u001b[43mclient\u001b[49m\u001b[38;5;241;43m.\u001b[39;49m\u001b[43mquery_day_ahead_prices\u001b[49m\u001b[43m(\u001b[49m\n\u001b[1;32m     15\u001b[0m \u001b[43m    \u001b[49m\u001b[43mcountry_code\u001b[49m\u001b[38;5;241;43m=\u001b[39;49m\u001b[38;5;124;43m'\u001b[39;49m\u001b[38;5;124;43mDE\u001b[39;49m\u001b[38;5;124;43m'\u001b[39;49m\u001b[43m,\u001b[49m\n\u001b[1;32m     16\u001b[0m \u001b[43m    \u001b[49m\u001b[43mstart\u001b[49m\u001b[38;5;241;43m=\u001b[39;49m\u001b[43mstart\u001b[49m\u001b[43m,\u001b[49m\u001b[43m \u001b[49m\u001b[43mend\u001b[49m\u001b[38;5;241;43m=\u001b[39;49m\u001b[43mend\u001b[49m\n\u001b[1;32m     17\u001b[0m \u001b[43m)\u001b[49m\n",
      "File \u001b[0;32m~/miniconda3/envs/tf-gpu/lib/python3.10/site-packages/entsoe/decorators.py:152\u001b[0m, in \u001b[0;36myear_limited.<locals>.year_wrapper\u001b[0;34m(start, end, *args, **kwargs)\u001b[0m\n\u001b[1;32m    148\u001b[0m     is_first_frame \u001b[38;5;241m=\u001b[39m \u001b[38;5;28;01mFalse\u001b[39;00m\n\u001b[1;32m    150\u001b[0m \u001b[38;5;28;01mif\u001b[39;00m \u001b[38;5;28msum\u001b[39m([f \u001b[38;5;129;01mis\u001b[39;00m \u001b[38;5;28;01mNone\u001b[39;00m \u001b[38;5;28;01mfor\u001b[39;00m f \u001b[38;5;129;01min\u001b[39;00m frames]) \u001b[38;5;241m==\u001b[39m \u001b[38;5;28mlen\u001b[39m(frames):\n\u001b[1;32m    151\u001b[0m     \u001b[38;5;66;03m# All the data returned are void\u001b[39;00m\n\u001b[0;32m--> 152\u001b[0m     \u001b[38;5;28;01mraise\u001b[39;00m NoMatchingDataError\n\u001b[1;32m    154\u001b[0m df \u001b[38;5;241m=\u001b[39m pd\u001b[38;5;241m.\u001b[39mconcat(frames, sort\u001b[38;5;241m=\u001b[39m\u001b[38;5;28;01mTrue\u001b[39;00m)\n\u001b[1;32m    155\u001b[0m \u001b[38;5;28;01mreturn\u001b[39;00m df\n",
      "\u001b[0;31mNoMatchingDataError\u001b[0m: "
     ]
    }
   ],
   "source": [
    "# Following https://freedium.cfd/https://medium.com/datons/entso-e-api-with-python-energy-analysis-in-europe-4943d4121a15\n",
    "# pip install entsoe-py\n",
    "import importlib\n",
    "import entsoe\n",
    "importlib.reload(entsoe)\n",
    "\n",
    "import pandas as pd\n",
    "\n",
    "client = entsoe.EntsoePandasClient(api_key=\"9122fb71-9b84-493a-bb9b-052bc2275cf8\")\n",
    "\n",
    "start = pd.Timestamp('20210101', tz='Europe/Berlin')\n",
    "end = pd.Timestamp('20240401', tz='Europe/Berlin')\n",
    "\n",
    "df = client.query_day_ahead_prices(\n",
    "    country_code='DE_LU',\n",
    "    start=start, end=end\n",
    ")"
   ]
  },
  {
   "cell_type": "code",
   "execution_count": null,
   "metadata": {},
   "outputs": [
    {
     "data": {
      "text/plain": [
       "2024-02-01 00:00:00+01:00    47.06\n",
       "2024-02-01 01:00:00+01:00    41.12\n",
       "2024-02-01 02:00:00+01:00    42.16\n",
       "2024-02-01 03:00:00+01:00    43.05\n",
       "2024-02-01 04:00:00+01:00    46.91\n",
       "2024-02-01 05:00:00+01:00    55.34\n",
       "2024-02-01 06:00:00+01:00    69.01\n",
       "2024-02-01 07:00:00+01:00    86.12\n",
       "2024-02-01 08:00:00+01:00    92.50\n",
       "2024-02-01 09:00:00+01:00    86.29\n",
       "2024-02-01 10:00:00+01:00    83.67\n",
       "2024-02-01 11:00:00+01:00    77.22\n",
       "2024-02-01 12:00:00+01:00    67.60\n",
       "2024-02-01 13:00:00+01:00    57.26\n",
       "2024-02-01 14:00:00+01:00    68.74\n",
       "2024-02-01 15:00:00+01:00    75.07\n",
       "2024-02-01 16:00:00+01:00    77.05\n",
       "2024-02-01 17:00:00+01:00    91.61\n",
       "2024-02-01 18:00:00+01:00    94.67\n",
       "2024-02-01 19:00:00+01:00    97.89\n",
       "2024-02-01 20:00:00+01:00    89.97\n",
       "2024-02-01 21:00:00+01:00    83.29\n",
       "2024-02-01 22:00:00+01:00    81.88\n",
       "2024-02-01 23:00:00+01:00    73.38\n",
       "2024-02-02 00:00:00+01:00    64.27\n",
       "Freq: 60min, dtype: float64"
      ]
     },
     "execution_count": 4,
     "metadata": {},
     "output_type": "execute_result"
    }
   ],
   "source": [
    "df"
   ]
  },
  {
   "cell_type": "code",
   "execution_count": null,
   "metadata": {},
   "outputs": [],
   "source": []
  }
 ],
 "metadata": {
  "kernelspec": {
   "display_name": "tf-gpu",
   "language": "python",
   "name": "python3"
  },
  "language_info": {
   "codemirror_mode": {
    "name": "ipython",
    "version": 3
   },
   "file_extension": ".py",
   "mimetype": "text/x-python",
   "name": "python",
   "nbconvert_exporter": "python",
   "pygments_lexer": "ipython3",
   "version": "3.10.13"
  }
 },
 "nbformat": 4,
 "nbformat_minor": 2
}
