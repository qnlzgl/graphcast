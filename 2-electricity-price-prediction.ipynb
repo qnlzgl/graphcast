{
 "cells": [
  {
   "cell_type": "code",
   "execution_count": 9,
   "metadata": {},
   "outputs": [],
   "source": [
    "### Day Ahead Price\n",
    "# Following https://freedium.cfd/https://medium.com/datons/entso-e-api-with-python-energy-analysis-in-europe-4943d4121a15\n",
    "# pip install entsoe-py\n",
    "import importlib\n",
    "import entsoe\n",
    "importlib.reload(entsoe)\n",
    "\n",
    "import pandas as pd\n",
    "\n",
    "client = entsoe.EntsoePandasClient(api_key=\"9122fb71-9b84-493a-bb9b-052bc2275cf8\")\n",
    "\n",
    "start = pd.Timestamp('20210101', tz='UTC')\n",
    "end = pd.Timestamp('20240401', tz='UTC')\n",
    "\n",
    "df = client.query_day_ahead_prices(\n",
    "    country_code='DE_LU',\n",
    "    start=start, end=end\n",
    ")\n",
    "df.to_csv(\"germany-day-ahead-prices.csv\")"
   ]
  },
  {
   "cell_type": "code",
   "execution_count": 12,
   "metadata": {},
   "outputs": [
    {
     "data": {
      "text/plain": [
       "2021-01-01 01:00:00+01:00    48.19\n",
       "2021-01-01 02:00:00+01:00    44.68\n",
       "2021-01-01 03:00:00+01:00    42.92\n",
       "2021-01-01 04:00:00+01:00    40.39\n",
       "2021-01-01 05:00:00+01:00    40.20\n",
       "2021-01-01 06:00:00+01:00    39.63\n",
       "2021-01-01 07:00:00+01:00    40.09\n",
       "2021-01-01 08:00:00+01:00    41.27\n",
       "2021-01-01 09:00:00+01:00    44.88\n",
       "2021-01-01 10:00:00+01:00    45.00\n",
       "Freq: 60min, dtype: float64"
      ]
     },
     "execution_count": 12,
     "metadata": {},
     "output_type": "execute_result"
    }
   ],
   "source": [
    "df.head(10)"
   ]
  },
  {
   "cell_type": "code",
   "execution_count": 13,
   "metadata": {},
   "outputs": [],
   "source": [
    "import requests as r\n",
    "import pandas as pd\n",
    "from datetime import datetime, timedelta\n",
    "\n",
    "\n",
    "class EpexSpot():\n",
    "\n",
    "    def __init__(self):\n",
    "        self.url = 'https://api.awattar.at/v1/marketdata?'\n",
    "\n",
    "    def get_spot_prices(self, start, end):\n",
    "\n",
    "        start_timestamp = int(start.timestamp())\n",
    "        end_timestamp = int(end.timestamp())\n",
    "\n",
    "        if start_timestamp > end_timestamp:\n",
    "            raise Exception(\"Start must be smaller than end!\")\n",
    "\n",
    "        response = r.get(url= self.url + f'start={start_timestamp}000&end={end_timestamp}000')\n",
    "        response_df = pd.DataFrame(response.json()['data'])\n",
    "        response_df['start_date'] = pd.to_datetime(response_df.start_timestamp, unit='ms')\n",
    "\n",
    "\n",
    "        return response_df[['start_date', 'marketprice', 'unit']]\n",
    "\n",
    "\n",
    "e = EpexSpot()\n",
    "prices = e.get_spot_prices(datetime(2021, 1, 1), datetime(2024, 4, 1))\n",
    "df.to_csv(\"germany-intraday-prices.csv\")  # TODO Confirm this is intraday price"
   ]
  },
  {
   "cell_type": "code",
   "execution_count": null,
   "metadata": {},
   "outputs": [],
   "source": []
  }
 ],
 "metadata": {
  "kernelspec": {
   "display_name": "tf-gpu",
   "language": "python",
   "name": "python3"
  },
  "language_info": {
   "codemirror_mode": {
    "name": "ipython",
    "version": 3
   },
   "file_extension": ".py",
   "mimetype": "text/x-python",
   "name": "python",
   "nbconvert_exporter": "python",
   "pygments_lexer": "ipython3",
   "version": "3.10.13"
  }
 },
 "nbformat": 4,
 "nbformat_minor": 2
}
